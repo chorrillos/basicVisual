{
 "cells": [
  {
   "cell_type": "code",
   "execution_count": 1,
   "id": "b44ad0da",
   "metadata": {},
   "outputs": [],
   "source": [
    "import pandas as pd\n",
    "import geopandas as gpd\n",
    "\n",
    "link=\"https://github.com/chorrillos/preprocesamiento/raw/main/datadismap.gpkg\"\n",
    "datadismap = gpd.read_file(link, layer='DISTRITO')\n",
    "\n",
    "import mapclassify \n",
    "import numpy\n",
    "numpy.random.seed(12345)\n",
    "\n",
    "K=5\n",
    "# mismo ancho interval, posible pocos conteos, interpretacion facil\n",
    "ei5 = mapclassify.EqualInterval(datadismap['IDH2019'], k=K)\n",
    "# mismo ancho interval basado en SDs, interpretacion algo facil, inapropiado para valores muy sesgados\n",
    "msd = mapclassify.StdMean(datadismap['IDH2019'])\n",
    "# diff ancho interval, conteo similar, interpretacion dificil, repetidos complica cortes                                \n",
    "q5=mapclassify.Quantiles(datadismap['IDH2019'],k=K)\n",
    "# diff intervalo basado en similaridad, apropiado para data multimodal\n",
    "mb5 = mapclassify.MaximumBreaks(datadismap['IDH2019'], k=K)\n",
    "# diff intervalo basado en similaridad, apropiado para muy sesgada\n",
    "ht = mapclassify.HeadTailBreaks(datadismap['IDH2019']) \n",
    "# diff intervalo basado en similaridad, heuristico\n",
    "fj5 = mapclassify.FisherJenks(datadismap['IDH2019'], k=K)\n",
    "# diff intervalo basado en similaridad, optimizador\n",
    "jc5 = mapclassify.JenksCaspall(datadismap['IDH2019'], k=K)\n",
    "# diff intervalo basado en similaridad, heuristico\n",
    "mp5 = mapclassify.MaxP(datadismap['IDH2019'], k=K)   \n",
    "\n",
    "\n"
   ]
  },
  {
   "cell_type": "code",
   "execution_count": 2,
   "id": "6bbeb539",
   "metadata": {},
   "outputs": [
    {
     "data": {
      "image/png": "[encoded data removed]",
      "text/plain": [
       "<Figure size 432x288 with 1 Axes>"
      ]
     },
     "metadata": {
      "needs_background": "light"
     },
     "output_type": "display_data"
    }
   ],
   "source": [
    "import seaborn\n",
    "class5 = q5, ei5,msd, ht, mb5, fj5, jc5, mp5\n",
    "# Collect ADCM for each classifier\n",
    "fits = numpy.array([ c.adcm for c in class5])\n",
    "# Convert ADCM scores to a DataFrame\n",
    "adcms = pd.DataFrame(fits)\n",
    "# Add classifier names\n",
    "adcms['classifier'] = [c.name for c in class5]\n",
    "# Add column names to the ADCM\n",
    "adcms.columns = ['ADCM', 'Classifier']\n",
    "ax = seaborn.barplot(\n",
    "    y='Classifier', x='ADCM', data=adcms, palette='Pastel1'\n",
    ")"
   ]
  },
  {
   "cell_type": "code",
   "execution_count": 3,
   "id": "8e6a265d",
   "metadata": {},
   "outputs": [],
   "source": [
    "datadismap['Quantiles'] = q5.yb \n",
    "datadismap['Equal Interval'] = ei5.yb \n",
    "datadismap['Fisher-Jenks'] = fj5.yb\n",
    "datadismap['Jenks Caspall'] = jc5.yb\n",
    "datadismap['MaxP'] = mp5.yb"
   ]
  },
  {
   "cell_type": "code",
   "execution_count": 8,
   "id": "e7076f5d",
   "metadata": {},
   "outputs": [
    {
     "data": {
      "text/plain": [
       "Index(['DEPARTAMEN', 'PROVINCIA', 'DISTRITO', 'INSTITUCIO', 'Poblacion',\n",
       "       'Superficie', 'Den_pob', 'RENIEC', 'POB-PEN', 'ES_PRIV', 'ES_PUB',\n",
       "       'N_COMIS', 'IIEE_PROG_PUB020', 'IIEE_PROG_PRIV2020', 'Latitud',\n",
       "       'Longitud', 'Ejec_reduc_delit', 'Increm_reduc_delit', 'IDH2019',\n",
       "       'Educ_sec_comp2019_pct', 'NBI2017_pct',\n",
       "       'niños_no_asisten_escuela2017_pct', 'Viv_sin_serv_hig2017_pct',\n",
       "       'pob_inf2018', 'pob_supf2018', 'pct_local_no_cobertura_cell',\n",
       "       'pct_local_cobertura_cell', 'ZG', 'Delitos', 'TID', 'Delitos_todos',\n",
       "       'geometry', 'Quantiles', 'Equal Interval', 'Fisher-Jenks',\n",
       "       'Jenks Caspall', 'MaxP'],\n",
       "      dtype='object')"
      ]
     },
     "execution_count": 8,
     "metadata": {},
     "output_type": "execute_result"
    }
   ],
   "source": [
    "datadismap.columns"
   ]
  },
  {
   "cell_type": "code",
   "execution_count": 4,
   "id": "a1acffe7",
   "metadata": {},
   "outputs": [
    {
     "data": {
      "text/html": [
       "<div>\n",
       "<style scoped>\n",
       "    .dataframe tbody tr th:only-of-type {\n",
       "        vertical-align: middle;\n",
       "    }\n",
       "\n",
       "    .dataframe tbody tr th {\n",
       "        vertical-align: top;\n",
       "    }\n",
       "\n",
       "    .dataframe thead th {\n",
       "        text-align: right;\n",
       "    }\n",
       "</style>\n",
       "<table border=\"1\" class=\"dataframe\">\n",
       "  <thead>\n",
       "    <tr style=\"text-align: right;\">\n",
       "      <th></th>\n",
       "      <th>Quantiles</th>\n",
       "      <th>Equal Interval</th>\n",
       "      <th>Fisher-Jenks</th>\n",
       "      <th>Jenks Caspall</th>\n",
       "      <th>MaxP</th>\n",
       "    </tr>\n",
       "  </thead>\n",
       "  <tbody>\n",
       "    <tr>\n",
       "      <th>0</th>\n",
       "      <td>11</td>\n",
       "      <td>5.0</td>\n",
       "      <td>9</td>\n",
       "      <td>9</td>\n",
       "      <td>11</td>\n",
       "    </tr>\n",
       "    <tr>\n",
       "      <th>1</th>\n",
       "      <td>17</td>\n",
       "      <td>41.0</td>\n",
       "      <td>33</td>\n",
       "      <td>21</td>\n",
       "      <td>17</td>\n",
       "    </tr>\n",
       "    <tr>\n",
       "      <th>2</th>\n",
       "      <td>23</td>\n",
       "      <td>20.0</td>\n",
       "      <td>21</td>\n",
       "      <td>26</td>\n",
       "      <td>23</td>\n",
       "    </tr>\n",
       "    <tr>\n",
       "      <th>3</th>\n",
       "      <td>15</td>\n",
       "      <td>11.0</td>\n",
       "      <td>11</td>\n",
       "      <td>15</td>\n",
       "      <td>15</td>\n",
       "    </tr>\n",
       "    <tr>\n",
       "      <th>4</th>\n",
       "      <td>11</td>\n",
       "      <td>NaN</td>\n",
       "      <td>3</td>\n",
       "      <td>6</td>\n",
       "      <td>11</td>\n",
       "    </tr>\n",
       "  </tbody>\n",
       "</table>\n",
       "</div>"
      ],
      "text/plain": [
       "   Quantiles  Equal Interval  Fisher-Jenks  Jenks Caspall  MaxP\n",
       "0         11             5.0             9              9    11\n",
       "1         17            41.0            33             21    17\n",
       "2         23            20.0            21             26    23\n",
       "3         15            11.0            11             15    15\n",
       "4         11             NaN             3              6    11"
      ]
     },
     "execution_count": 4,
     "metadata": {},
     "output_type": "execute_result"
    }
   ],
   "source": [
    "clasifIDH=datadismap.loc[:,['DISTRITO','IDH2019','Quantiles', 'Equal Interval',\n",
    "                            'Fisher-Jenks', 'Jenks Caspall', 'MaxP','ZG']].copy()\n",
    "\n",
    "clasifIDH.sort_values('IDH2019',inplace=True)\n",
    "clasifIDH=clasifIDH.drop('IDH2019',axis=1).set_index('DISTRITO')\n",
    "\n",
    "clasifIDH_ZG=clasifIDH[clasifIDH.ZG=='ZG']\n",
    "clasifIDH_ZG=clasifIDH_ZG.drop(\"ZG\",axis=1)\n",
    "\n",
    "TheCounts={x:clasifIDH_ZG[x].value_counts(sort=False,dropna=False).to_list() for x in clasifIDH_ZG.columns}\n",
    "pd.DataFrame({key:pd.Series(value) for key, value in TheCounts.items()})"
   ]
  },
  {
   "cell_type": "code",
   "execution_count": 6,
   "id": "c22335d9",
   "metadata": {},
   "outputs": [
    {
     "data": {
      "text/html": [
       "<div>\n",
       "<style scoped>\n",
       "    .dataframe tbody tr th:only-of-type {\n",
       "        vertical-align: middle;\n",
       "    }\n",
       "\n",
       "    .dataframe tbody tr th {\n",
       "        vertical-align: top;\n",
       "    }\n",
       "\n",
       "    .dataframe thead th {\n",
       "        text-align: right;\n",
       "    }\n",
       "</style>\n",
       "<table border=\"1\" class=\"dataframe\">\n",
       "  <thead>\n",
       "    <tr style=\"text-align: right;\">\n",
       "      <th></th>\n",
       "      <th>Quantiles</th>\n",
       "      <th>EqualInterval</th>\n",
       "      <th>FisherJenks</th>\n",
       "      <th>JenksCaspall</th>\n",
       "      <th>MaxP</th>\n",
       "    </tr>\n",
       "  </thead>\n",
       "  <tbody>\n",
       "    <tr>\n",
       "      <th>Class-0</th>\n",
       "      <td>375</td>\n",
       "      <td>180</td>\n",
       "      <td>351</td>\n",
       "      <td>352</td>\n",
       "      <td>370</td>\n",
       "    </tr>\n",
       "    <tr>\n",
       "      <th>Class-1</th>\n",
       "      <td>375</td>\n",
       "      <td>789</td>\n",
       "      <td>584</td>\n",
       "      <td>484</td>\n",
       "      <td>380</td>\n",
       "    </tr>\n",
       "    <tr>\n",
       "      <th>Class-2</th>\n",
       "      <td>374</td>\n",
       "      <td>549</td>\n",
       "      <td>424</td>\n",
       "      <td>403</td>\n",
       "      <td>371</td>\n",
       "    </tr>\n",
       "    <tr>\n",
       "      <th>Class-3</th>\n",
       "      <td>375</td>\n",
       "      <td>301</td>\n",
       "      <td>330</td>\n",
       "      <td>351</td>\n",
       "      <td>381</td>\n",
       "    </tr>\n",
       "    <tr>\n",
       "      <th>Class-4</th>\n",
       "      <td>375</td>\n",
       "      <td>55</td>\n",
       "      <td>185</td>\n",
       "      <td>284</td>\n",
       "      <td>372</td>\n",
       "    </tr>\n",
       "  </tbody>\n",
       "</table>\n",
       "</div>"
      ],
      "text/plain": [
       "         Quantiles  EqualInterval  FisherJenks  JenksCaspall  MaxP\n",
       "Class-0        375            180          351           352   370\n",
       "Class-1        375            789          584           484   380\n",
       "Class-2        374            549          424           403   371\n",
       "Class-3        375            301          330           351   381\n",
       "Class-4        375             55          185           284   372"
      ]
     },
     "execution_count": 6,
     "metadata": {},
     "output_type": "execute_result"
    }
   ],
   "source": [
    "class5new = q5, ei5, fj5, jc5, mp5\n",
    "pd.DataFrame(\n",
    "    {c.name: c.counts for c in class5new},\n",
    "    index=['Class-{}'.format(i) for i in range(5)]\n",
    ")"
   ]
  },
  {
   "cell_type": "code",
   "execution_count": 80,
   "id": "a7347d64",
   "metadata": {},
   "outputs": [
    {
     "data": {
      "text/plain": [
       "<AxesSubplot:xlabel='IDH2019', ylabel='Count'>"
      ]
     },
     "execution_count": 80,
     "metadata": {},
     "output_type": "execute_result"
    },
    {
     "data": {
      "image/png": "[encoded data removed]",
      "text/plain": [
       "<Figure size 432x288 with 1 Axes>"
      ]
     },
     "metadata": {
      "needs_background": "light"
     },
     "output_type": "display_data"
    }
   ],
   "source": [
    "ax = seaborn.histplot(datadismap['IDH2019'], bins=5,color='yellow')\n",
    "# Add rug on horizontal axis\n",
    "seaborn.rugplot(\n",
    "    data=datadismap,x='IDH2019', height=0.1, hue=\"ZG\", ax=ax,palette=['lightgrey','red']\n",
    ")"
   ]
  },
  {
   "cell_type": "code",
   "execution_count": 51,
   "id": "74694626",
   "metadata": {},
   "outputs": [],
   "source": [
    "ei5full=list(ei5.bins)\n",
    "ei5full.insert(0, datadismap.IDH2019.min())"
   ]
  },
  {
   "cell_type": "code",
   "execution_count": 79,
   "id": "0d0f67e0",
   "metadata": {},
   "outputs": [
    {
     "data": {
      "text/plain": [
       "<AxesSubplot:xlabel='IDH2019', ylabel='Count'>"
      ]
     },
     "execution_count": 79,
     "metadata": {},
     "output_type": "execute_result"
    },
    {
     "data": {
      "image/png": "[encoded data removed]",
      "text/plain": [
       "<Figure size 432x288 with 1 Axes>"
      ]
     },
     "metadata": {
      "needs_background": "light"
     },
     "output_type": "display_data"
    }
   ],
   "source": [
    "ax=seaborn.histplot(datadismap, x=\"IDH2019\", bins=ei5full,color='yellow')\n",
    "seaborn.rugplot(\n",
    "    data=datadismap,x='IDH2019', height=0.1, hue=\"ZG\", ax=ax,palette=['lightgrey','red']\n",
    ")"
   ]
  },
  {
   "cell_type": "code",
   "execution_count": 81,
   "id": "c77b92d6",
   "metadata": {},
   "outputs": [
    {
     "data": {
      "text/plain": [
       "<AxesSubplot:xlabel='IDH2019', ylabel='Count'>"
      ]
     },
     "execution_count": 81,
     "metadata": {},
     "output_type": "execute_result"
    },
    {
     "data": {
      "image/png": "[encoded data removed]",
      "text/plain": [
       "<Figure size 432x288 with 1 Axes>"
      ]
     },
     "metadata": {
      "needs_background": "light"
     },
     "output_type": "display_data"
    }
   ],
   "source": [
    "fj5full=list(fj5.bins)\n",
    "fj5full.insert(0, datadismap.IDH2019.min())\n",
    "ax=seaborn.histplot(datadismap, x=\"IDH2019\", bins=fj5full,color=\"yellow\")\n",
    "seaborn.rugplot(\n",
    "    data=datadismap,x='IDH2019', height=0.1, hue=\"ZG\", ax=ax,palette=['lightgrey','red']\n",
    ")"
   ]
  },
  {
   "cell_type": "code",
   "execution_count": 82,
   "id": "6d6537e6",
   "metadata": {},
   "outputs": [
    {
     "data": {
      "text/plain": [
       "<AxesSubplot:xlabel='IDH2019', ylabel='Count'>"
      ]
     },
     "execution_count": 82,
     "metadata": {},
     "output_type": "execute_result"
    },
    {
     "data": {
      "image/png": "[encoded data removed]",
      "text/plain": [
       "<Figure size 432x288 with 1 Axes>"
      ]
     },
     "metadata": {
      "needs_background": "light"
     },
     "output_type": "display_data"
    }
   ],
   "source": [
    "jc5full=list(jc5.bins)\n",
    "jc5full.insert(0, datadismap.IDH2019.min())\n",
    "ax=seaborn.histplot(datadismap, x=\"IDH2019\",bins=jc5full,color=\"yellow\")\n",
    "seaborn.rugplot(\n",
    "    data=datadismap,x='IDH2019', height=0.1, hue=\"ZG\", ax=ax,palette=['lightgrey','red']\n",
    ")"
   ]
  },
  {
   "cell_type": "code",
   "execution_count": 83,
   "id": "09ab0fa9",
   "metadata": {},
   "outputs": [],
   "source": [
    "clasifIDH=datadismap.loc[:,['DEPARTAMEN', 'PROVINCIA', 'DISTRITO', 'Equal Interval',\n",
    "                            'Fisher-Jenks', 'Jenks Caspall', 'ZG','geometry']].copy()"
   ]
  },
  {
   "cell_type": "code",
   "execution_count": 84,
   "id": "a4157272",
   "metadata": {},
   "outputs": [],
   "source": [
    "clasifIDH.to_file(\"clasifIDH.gpkg\", layer='DISTRITO', driver=\"GPKG\")"
   ]
  },
  {
   "cell_type": "code",
   "execution_count": null,
   "id": "31db18a2",
   "metadata": {},
   "outputs": [],
   "source": []
  }
 ],
 "metadata": {
  "hide_input": false,
  "kernelspec": {
   "display_name": "Python 3 (ipykernel)",
   "language": "python",
   "name": "python3"
  },
  "language_info": {
   "codemirror_mode": {
    "name": "ipython",
    "version": 3
   },
   "file_extension": ".py",
   "mimetype": "text/x-python",
   "name": "python",
   "nbconvert_exporter": "python",
   "pygments_lexer": "ipython3",
   "version": "3.8.12"
  }
 },
 "nbformat": 4,
 "nbformat_minor": 5
}
